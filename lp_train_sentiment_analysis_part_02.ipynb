{
  "nbformat": 4,
  "nbformat_minor": 0,
  "metadata": {
    "anaconda-cloud": {},
    "kernelspec": {
      "display_name": "Python 3",
      "language": "python",
      "name": "python3"
    },
    "language_info": {
      "codemirror_mode": {
        "name": "ipython",
        "version": 2
      },
      "file_extension": ".py",
      "mimetype": "text/x-python",
      "name": "python",
      "nbconvert_exporter": "python",
      "pygments_lexer": "ipython2",
      "version": "2.7.3"
    },
    "pycharm": {
      "stem_cell": {
        "cell_type": "raw",
        "source": [],
        "metadata": {
          "collapsed": false
        }
      }
    },
    "colab": {
      "name": "lp_train_sentiment_analysis.ipynb",
      "provenance": [],
      "collapsed_sections": [],
      "include_colab_link": true
    }
  },
  "cells": [
    {
      "cell_type": "markdown",
      "metadata": {
        "id": "view-in-github",
        "colab_type": "text"
      },
      "source": [
        "<a href=\"https://colab.research.google.com/github/TheBlackRus/Manning_LP_deploy_ml_as_microservice/blob/main/lp_train_sentiment_analysis_part_02.ipynb\" target=\"_parent\"><img src=\"https://colab.research.google.com/assets/colab-badge.svg\" alt=\"Open In Colab\"/></a>"
      ]
    },
    {
      "cell_type": "markdown",
      "metadata": {
        "collapsed": false,
        "pycharm": {
          "name": "#%% md\n"
        },
        "id": "QXgOshNkHt-t"
      },
      "source": [
        "## Part 2: Training your own ML Model\n",
        "\n",
        "<a href=\"https://colab.research.google.com/github/peckjon/hosting-ml-as-microservice/blob/master/part2/train_sentiment_analysis.ipynb\" target=\"_parent\"><img src=\"https://colab.research.google.com/assets/colab-badge.svg\" alt=\"Open In Colab\"/></a>"
      ]
    },
    {
      "cell_type": "markdown",
      "metadata": {
        "id": "OioZeM80Ht-x"
      },
      "source": [
        "### Download corpuses\n",
        "\n",
        "We'll continue using the `movie_reviews` corpus to train our model. The `stopwords` corpus contains a [set of standard stopwords](https://gist.github.com/sebleier/554280) we'll want to remove from the input, and `punkt` is used for toneization in the [.words()](https://www.nltk.org/api/nltk.corpus.html#corpus-reader-functions) method of the corpus reader."
      ]
    },
    {
      "cell_type": "code",
      "metadata": {
        "pycharm": {
          "name": "#%%\n"
        },
        "id": "HTkUMj-gHt-y",
        "colab": {
          "base_uri": "https://localhost:8080/"
        },
        "outputId": "4d2ebee3-ecf0-4985-d9ca-05f33269664f"
      },
      "source": [
        "from nltk import download\n",
        "\n",
        "download('movie_reviews')\n",
        "download('punkt')\n",
        "download('stopwords')\n",
        "better_words = []"
      ],
      "execution_count": 1,
      "outputs": [
        {
          "output_type": "stream",
          "text": [
            "[nltk_data] Downloading package movie_reviews to /root/nltk_data...\n",
            "[nltk_data]   Package movie_reviews is already up-to-date!\n",
            "[nltk_data] Downloading package punkt to /root/nltk_data...\n",
            "[nltk_data]   Package punkt is already up-to-date!\n",
            "[nltk_data] Downloading package stopwords to /root/nltk_data...\n",
            "[nltk_data]   Package stopwords is already up-to-date!\n"
          ],
          "name": "stdout"
        }
      ]
    },
    {
      "cell_type": "markdown",
      "metadata": {
        "id": "St_oP2SGHt-z"
      },
      "source": [
        "### Define feature extractor and bag-of-words converter\n",
        "\n",
        "Given a list of (already tokenized) words, we need a function to extract just the ones we care about: those not found in the list of English stopwords or standard punctuation.\n",
        "\n",
        "We also need a way to easily turn a list of words into a [bag-of-words](https://en.wikipedia.org/wiki/Bag-of-words_model), pairing each word with the count of its occurrences."
      ]
    },
    {
      "cell_type": "code",
      "metadata": {
        "id": "xJYwLPOdHt-0",
        "colab": {
          "base_uri": "https://localhost:8080/"
        },
        "outputId": "776f3521-d12a-4d6d-e339-160425c823bc"
      },
      "source": [
        "from nltk.corpus import stopwords\n",
        "from string import punctuation\n",
        "\n",
        "stopwords_eng = stopwords.words('english')\n",
        "print(better_words)\n",
        "def extract_features(words):\n",
        "    return [w for w in words if w not in stopwords_eng and w not in punctuation and (w in better_words or better_words == [])] # \n",
        "\n",
        "def bag_of_words(words):\n",
        "    bag = {}\n",
        "    for w in words:\n",
        "        bag[w] = bag.get(w,0)+1\n",
        "    return bag"
      ],
      "execution_count": 2,
      "outputs": [
        {
          "output_type": "stream",
          "text": [
            "[]\n"
          ],
          "name": "stdout"
        }
      ]
    },
    {
      "cell_type": "markdown",
      "metadata": {
        "id": "lSIGf4RWHt-0"
      },
      "source": [
        "### Ingest, clean, and convert the positive and negative reviews\n",
        "\n",
        "For both the positive (\"pos\") and negative (\"neg\") sets of reviews, extract the features and convert to bag of words. From these, we construct a list of tuples known as a \"featureset\": the first part of each tuple is the bag of words for that review, and the second is its label (\"pos\"/\"neg\").\n",
        "\n",
        "Note that `movie_reviews.words(fileid)` provides a tokenized list of words. If we wanted the un-tokenized text, we would use `movie_reviews.raw(fileid)` instead, then tokenize it using our preferred tokenizeer (e.g. [nltk.tokenize.word_tokenize](https://www.nltk.org/api/nltk.tokenize.html#nltk.tokenize.punkt.PunktLanguageVars.word_tokenize))."
      ]
    },
    {
      "cell_type": "code",
      "metadata": {
        "id": "6IPDj9nzHt-0"
      },
      "source": [
        "from nltk.corpus import movie_reviews\n",
        "\n",
        "reviews_pos = []\n",
        "reviews_neg = []\n",
        "for fileid in movie_reviews.fileids('pos'):\n",
        "    words = extract_features(movie_reviews.words(fileid))\n",
        "    reviews_pos.append((bag_of_words(words), 'pos'))\n",
        "for fileid in movie_reviews.fileids('neg'):\n",
        "    words = extract_features(movie_reviews.words(fileid))\n",
        "    reviews_neg.append((bag_of_words(words), 'neg'))"
      ],
      "execution_count": 3,
      "outputs": []
    },
    {
      "cell_type": "markdown",
      "metadata": {
        "id": "dCVAXsp1Ht-0"
      },
      "source": [
        "### Split reviews into training and test sets\n",
        "We need to break up each group of reviews into a training set (about 80%) and a test set (the remaining 20%). In case there's some meaningful order to the reviews (e.g. the first 800 are from one group of reviewers, the next 200 are from another), we shuffle the sets first to ensure we aren't introducing additional bias. Note that this means our accuracy will not be exactly the same on every run; if you wish to see consistent results on each run, you can stabilize the shuffle by calling [random.seed(n)](https://www.geeksforgeeks.org/random-seed-in-python/) first."
      ]
    },
    {
      "cell_type": "code",
      "metadata": {
        "id": "iq0jwactHt-1"
      },
      "source": [
        "from random import shuffle\n",
        "\n",
        "split_pct = .80\n",
        "\n",
        "def split_set(review_set):\n",
        "    split = int(len(review_set)*split_pct)\n",
        "    return (review_set[:split], review_set[split:])\n",
        "\n",
        "shuffle(reviews_pos)\n",
        "shuffle(reviews_neg)\n",
        "\n",
        "pos_train, pos_test = split_set(reviews_pos)\n",
        "neg_train, neg_test = split_set(reviews_neg)\n",
        "\n",
        "train_set = pos_train+neg_train\n",
        "test_set = pos_test+neg_test"
      ],
      "execution_count": 4,
      "outputs": []
    },
    {
      "cell_type": "markdown",
      "metadata": {
        "id": "mYtFe6eVHt-1"
      },
      "source": [
        "### Train the model\n",
        "\n",
        "Now that our data is ready, the training step itself is quite simple if we use the [NaiveBayesClassifier](https://www.nltk.org/api/nltk.classify.html#module-nltk.classify.naivebayes) provided by NLTK.\n",
        "\n",
        "If you are used to methods such as `model.fit(x,y)` which take two parameters -- the data and the labels -- it may be confusing that `NaiveBayesClassifier.train` takes just one argument. This is because the labels are already embedded in `train_set`: each element in the set is a Bag of Words paired with a 'pos' or 'neg'; value."
      ]
    },
    {
      "cell_type": "code",
      "metadata": {
        "id": "KfNTj1fmHt-1"
      },
      "source": [
        "from nltk.classify import NaiveBayesClassifier\n",
        "\n",
        "model = NaiveBayesClassifier.train(train_set)"
      ],
      "execution_count": 5,
      "outputs": []
    },
    {
      "cell_type": "markdown",
      "metadata": {
        "id": "9P7bkYOiHt-2"
      },
      "source": [
        "### Check model accuracy\n",
        "\n",
        "NLTK's built-in [accuracy](https://www.nltk.org/api/nltk.classify.html#module-nltk.classify.util) utility can run our test_set through the model and compare the labels returned by the model to the labels in the test set, producing an overall % accuracy. Not too impressive, right? We need to improve."
      ]
    },
    {
      "cell_type": "code",
      "metadata": {
        "id": "-yuzVFn0Ht-2",
        "colab": {
          "base_uri": "https://localhost:8080/"
        },
        "outputId": "abf6359d-e70f-48b8-81f4-4194953f3cbb"
      },
      "source": [
        "from nltk.classify.util import accuracy\n",
        "\n",
        "print(100 * accuracy(model, test_set))"
      ],
      "execution_count": 6,
      "outputs": [
        {
          "output_type": "stream",
          "text": [
            "69.5\n"
          ],
          "name": "stdout"
        }
      ]
    },
    {
      "cell_type": "code",
      "metadata": {
        "colab": {
          "base_uri": "https://localhost:8080/"
        },
        "id": "d1VOKJXMpy3N",
        "outputId": "787c77dd-8efb-4140-9f36-9915c61be9cd"
      },
      "source": [
        "better_words = list(map(lambda x: x[0], model.most_informative_features(100)))\n",
        "print(better_words)"
      ],
      "execution_count": 7,
      "outputs": [
        {
          "output_type": "stream",
          "text": [
            "['boring', 'stupid', 'marvelous', 'wonderful', 'ludicrous', 'sucks', 'apparently', 'filmmakers', 'astounding', 'avoids', 'atrocious', 'worst', 'magnificent', 'best', 'stark', 'strengths', 'outstanding', 'imaginative', 'strongest', 'headache', 'insulting', 'breathtaking', 'finest', 'illogical', 'dream', 'accessible', 'effective', 'regard', 'team', 'elliot', 'controversial', 'wasted', 'great', 'palpable', 'keen', 'unbearable', 'fascination', 'seamless', 'sans', 'conveys', 'hilarious', 'exquisite', 'country', 'questioning', 'embarrassing', 'matches', 'profit', 'literal', 'fairness', 'shannon', 'wonderfully', 'saddled', 'mcconaughey', 'sundance', 'secondly', 'memorable', 'idiotic', 'depicted', 'uninvolving', 'vulnerability', 'gaining', 'manipulation', 'shoddy', 'hatred', 'yawn', 'naval', 'ugh', 'treasure', 'frances', 'fishing', 'farther', 'anger', 'bad', 'chilling', 'best', 'insipid', 'uplifting', 'everyday', 'bore', 'commanding', 'quite', 'feeble', 'rude', 'detract', 'goo', 'aliens', 'nasa', 'mark', 'bad', 'mixing', '4', 'gump', 'surrealistic', 'gives', 'dread', 'liam', 'kurt', 'apocalyptic', 'poetry', 'glasses']\n"
          ],
          "name": "stdout"
        }
      ]
    },
    {
      "cell_type": "code",
      "metadata": {
        "colab": {
          "base_uri": "https://localhost:8080/"
        },
        "id": "t5_Lcc0Ivg2J",
        "outputId": "a2894ce2-dcaa-458f-b977-394ebfa6a995"
      },
      "source": [
        "stopwords_eng = stopwords.words('english')\n",
        "print(better_words)\n",
        "def extract_features(words):\n",
        "    return [w for w in words if w not in stopwords_eng and w not in punctuation and (w in better_words or better_words == [])] # \n",
        "\n",
        "def bag_of_words(words):\n",
        "    bag = {}\n",
        "    for w in words:\n",
        "        bag[w] = bag.get(w,0)+1\n",
        "    return bag\n",
        "\n",
        "reviews_pos = []\n",
        "reviews_neg = []\n",
        "for fileid in movie_reviews.fileids('pos'):\n",
        "    words = extract_features(movie_reviews.words(fileid))\n",
        "    reviews_pos.append((bag_of_words(words), 'pos'))\n",
        "for fileid in movie_reviews.fileids('neg'):\n",
        "    words = extract_features(movie_reviews.words(fileid))\n",
        "    reviews_neg.append((bag_of_words(words), 'neg'))\n",
        "\n",
        "split_pct = .80\n",
        "\n",
        "def split_set(review_set):\n",
        "    split = int(len(review_set)*split_pct)\n",
        "    return (review_set[:split], review_set[split:])\n",
        "\n",
        "shuffle(reviews_pos)\n",
        "shuffle(reviews_neg)\n",
        "\n",
        "pos_train, pos_test = split_set(reviews_pos)\n",
        "neg_train, neg_test = split_set(reviews_neg)\n",
        "\n",
        "train_set = pos_train+neg_train\n",
        "test_set = pos_test+neg_test\n",
        "\n",
        "model_better = NaiveBayesClassifier.train(train_set)\n",
        "print(100 * accuracy(model_better, test_set))"
      ],
      "execution_count": 8,
      "outputs": [
        {
          "output_type": "stream",
          "text": [
            "['boring', 'stupid', 'marvelous', 'wonderful', 'ludicrous', 'sucks', 'apparently', 'filmmakers', 'astounding', 'avoids', 'atrocious', 'worst', 'magnificent', 'best', 'stark', 'strengths', 'outstanding', 'imaginative', 'strongest', 'headache', 'insulting', 'breathtaking', 'finest', 'illogical', 'dream', 'accessible', 'effective', 'regard', 'team', 'elliot', 'controversial', 'wasted', 'great', 'palpable', 'keen', 'unbearable', 'fascination', 'seamless', 'sans', 'conveys', 'hilarious', 'exquisite', 'country', 'questioning', 'embarrassing', 'matches', 'profit', 'literal', 'fairness', 'shannon', 'wonderfully', 'saddled', 'mcconaughey', 'sundance', 'secondly', 'memorable', 'idiotic', 'depicted', 'uninvolving', 'vulnerability', 'gaining', 'manipulation', 'shoddy', 'hatred', 'yawn', 'naval', 'ugh', 'treasure', 'frances', 'fishing', 'farther', 'anger', 'bad', 'chilling', 'best', 'insipid', 'uplifting', 'everyday', 'bore', 'commanding', 'quite', 'feeble', 'rude', 'detract', 'goo', 'aliens', 'nasa', 'mark', 'bad', 'mixing', '4', 'gump', 'surrealistic', 'gives', 'dread', 'liam', 'kurt', 'apocalyptic', 'poetry', 'glasses']\n",
            "76.25\n"
          ],
          "name": "stdout"
        }
      ]
    },
    {
      "cell_type": "code",
      "metadata": {
        "colab": {
          "base_uri": "https://localhost:8080/"
        },
        "id": "Kv2Yx7whtDUu",
        "outputId": "a85baa3f-dedb-4141-f4c0-733ca0eb6c41"
      },
      "source": [
        "\"stupid\" in better_words"
      ],
      "execution_count": 9,
      "outputs": [
        {
          "output_type": "execute_result",
          "data": {
            "text/plain": [
              "True"
            ]
          },
          "metadata": {
            "tags": []
          },
          "execution_count": 9
        }
      ]
    },
    {
      "cell_type": "markdown",
      "metadata": {
        "id": "_1grHhY9Ht-2"
      },
      "source": [
        "### Save the model\n",
        "Our trained model will be cleared from memory when this notebook is closed. So that we can use it again later, save the model as a file using the [pickle](https://docs.python.org/3/library/pickle.html) serializer."
      ]
    },
    {
      "cell_type": "code",
      "metadata": {
        "pycharm": {
          "name": "#%%\n"
        },
        "id": "AmQVQUN2Ht-2"
      },
      "source": [
        "import pickle\n",
        "\n",
        "model_file = open('sa_classifier.pickle','wb')\n",
        "pickle.dump(model, model_file)\n",
        "model_file.close()"
      ],
      "execution_count": 10,
      "outputs": []
    },
    {
      "cell_type": "code",
      "metadata": {
        "id": "7ZsRLMppw_-2"
      },
      "source": [
        "model_file = open('sa_classifier_better.pickle','wb')\n",
        "pickle.dump(model_better, model_file)\n",
        "model_file.close()"
      ],
      "execution_count": 12,
      "outputs": []
    },
    {
      "cell_type": "markdown",
      "metadata": {
        "id": "qE3UVKpxHt-3"
      },
      "source": [
        "### Save the model (Colab version)\n",
        "\n",
        "Google Colab doesn't provide direct access to files saved during a notebook session, so we need to save it in [Google Drive](https://drive.google.com) instead. The first time you run this, it will ask for permission to access your Google Drive. Follow the instructions, then wait a few minutes and look for a new folder called \"Colab Output\" in [Drive](https://drive.google.com). Note that Colab does not alway sync to Drive immediately, so check the file update times and re-run this cell if it doesn't look like you have the most revent version of your file."
      ]
    },
    {
      "cell_type": "code",
      "metadata": {
        "collapsed": true,
        "id": "v7M_MNV5Ht-3",
        "colab": {
          "base_uri": "https://localhost:8080/",
          "height": 86
        },
        "outputId": "3ba2f4a7-004a-4850-d69c-ab4504d0e176"
      },
      "source": [
        "\"\"\"\n",
        "import sys\n",
        "if 'google.colab' in sys.modules:\n",
        "    from google.colab import drive\n",
        "    drive.mount('/content/gdrive')\n",
        "    !mkdir -p '/content/gdrive/My Drive/Colab Output'\n",
        "    model_file = open('/content/gdrive/My Drive/Colab Output/sa_classifier.pickle','wb')\n",
        "    pickle.dump(model, model_file)\n",
        "    model_file.flush()\n",
        "    print('Model saved in /content/gdrive/My Drive/Colab Output')\n",
        "    !ls '/content/gdrive/My Drive/Colab Output'\n",
        "    drive.flush_and_unmount()\n",
        "    print('Re-run this cell if you cannot find it in https://drive.google.com')\n",
        "\"\"\""
      ],
      "execution_count": 11,
      "outputs": [
        {
          "output_type": "execute_result",
          "data": {
            "application/vnd.google.colaboratory.intrinsic+json": {
              "type": "string"
            },
            "text/plain": [
              "\"\\nimport sys\\nif 'google.colab' in sys.modules:\\n    from google.colab import drive\\n    drive.mount('/content/gdrive')\\n    !mkdir -p '/content/gdrive/My Drive/Colab Output'\\n    model_file = open('/content/gdrive/My Drive/Colab Output/sa_classifier.pickle','wb')\\n    pickle.dump(model, model_file)\\n    model_file.flush()\\n    print('Model saved in /content/gdrive/My Drive/Colab Output')\\n    !ls '/content/gdrive/My Drive/Colab Output'\\n    drive.flush_and_unmount()\\n    print('Re-run this cell if you cannot find it in https://drive.google.com')\\n\""
            ]
          },
          "metadata": {
            "tags": []
          },
          "execution_count": 11
        }
      ]
    }
  ]
}